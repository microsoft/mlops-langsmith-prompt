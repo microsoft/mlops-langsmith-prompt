{
 "cells": [
  {
   "cell_type": "code",
   "execution_count": 6,
   "metadata": {},
   "outputs": [],
   "source": [
    "import os\n",
    "\n",
    "os.environ[\"LANGCHAIN_TRACING_V2\"]=\"true\"\n",
    "os.environ[\"LANGCHAIN_API_KEY\"]=\"\"\n",
    "os.environ[\"LANGCHAIN_ENDPOINT\"] = \"https://api.smith.langchain.com\"\n",
    "os.environ[\"AZURE_OPENAI_API_KEY\"] = \"\"\n",
    "os.environ[\"AZURE_OPENAI_ENDPOINT\"] = \"\"\n",
    "os.environ[\"OPENAI_API_VERSION\"] = \"\"\n",
    "\n",
    "project_name = \"default\""
   ]
  },
  {
   "cell_type": "markdown",
   "metadata": {},
   "source": [
    "# Log a trace via REST API"
   ]
  },
  {
   "cell_type": "markdown",
   "metadata": {},
   "source": [
    "https://docs.smith.langchain.com/cookbook/tracing-examples/rest"
   ]
  },
  {
   "cell_type": "code",
   "execution_count": 65,
   "metadata": {},
   "outputs": [
    {
     "name": "stdout",
     "output_type": "stream",
     "text": [
      "<Response [202]>\n"
     ]
    }
   ],
   "source": [
    "import datetime\n",
    "import uuid\n",
    "import requests\n",
    "\n",
    "_LANGSMITH_API_KEY = os.environ[\"LANGCHAIN_API_KEY\"]\n",
    "\n",
    "run_id = str(uuid.uuid4())\n",
    "\n",
    "res = requests.post(\n",
    "    \"https://api.smith.langchain.com/runs\",\n",
    "    json={\n",
    "        \"id\": run_id,\n",
    "        \"name\": \"MyFirstRun\",\n",
    "        \"run_type\": \"chain\",\n",
    "        \"start_time\": datetime.datetime.utcnow().isoformat(),\n",
    "        \"inputs\": {\"text\": \"Foo\"},\n",
    "    },\n",
    "    headers={\"x-api-key\": _LANGSMITH_API_KEY},\n",
    ")\n",
    "print(res)\n"
   ]
  },
  {
   "cell_type": "code",
   "execution_count": 66,
   "metadata": {},
   "outputs": [
    {
     "data": {
      "text/plain": [
       "<Response [202]>"
      ]
     },
     "execution_count": 66,
     "metadata": {},
     "output_type": "execute_result"
    }
   ],
   "source": [
    "requests.patch(\n",
    "    f\"https://api.smith.langchain.com/runs/{run_id}\",\n",
    "    json={\n",
    "        \"outputs\": {\"my_output\": \"Bar\"},\n",
    "        \"end_time\": datetime.datetime.utcnow().isoformat(),\n",
    "    },\n",
    "    headers={\"x-api-key\": _LANGSMITH_API_KEY},\n",
    ")"
   ]
  },
  {
   "cell_type": "markdown",
   "metadata": {},
   "source": [
    "More complex chain example"
   ]
  },
  {
   "cell_type": "code",
   "execution_count": 8,
   "metadata": {},
   "outputs": [],
   "source": [
    "import platform\n",
    "import datetime\n",
    "import uuid\n",
    "import requests\n",
    "\n",
    "_LANGSMITH_API_KEY = os.environ[\"LANGCHAIN_API_KEY\"]\n",
    "run_id = str(uuid.uuid4())\n",
    "\n",
    "requests.post(\n",
    "    \"https://api.smith.langchain.com/runs\",\n",
    "    json={\n",
    "        \"id\": run_id,\n",
    "        \"name\": \"MySecondRun\",\n",
    "        \"run_type\": \"chain\",\n",
    "        \"inputs\": {\"text\": \"Foo\"},\n",
    "        \"start_time\": datetime.datetime.utcnow().isoformat(),\n",
    "        \"session_name\": project_name,\n",
    "        \"tags\": [\"langsmith\", \"rest\", \"my-example\"],\n",
    "        \"extra\": {\n",
    "            \"metadata\": {\"my_key\": \"My value\"},\n",
    "            \"runtime\": {\n",
    "                \"platform\": platform.platform(),\n",
    "            },\n",
    "        },\n",
    "    },\n",
    "    headers={\"x-api-key\": _LANGSMITH_API_KEY},\n",
    ")\n",
    "# ... do some work ...\n",
    "events = []\n",
    "# Events like new tokens and retries can be added\n",
    "events.append({\"event_name\": \"retry\", \"reason\": \"never gonna give you up\"})\n",
    "events.append({\"event_name\": \"new_token\", \"value\": \"foo\"})\n",
    "\n",
    "res = requests.patch(\n",
    "    f\"https://api.smith.langchain.com/runs/{run_id}\",\n",
    "    json={\n",
    "        \"end_time\": datetime.datetime.utcnow().isoformat(),\n",
    "        \"outputs\": {\"generated\": \"Bar\"},\n",
    "        \"events\": events,\n",
    "    },\n",
    "    headers={\"x-api-key\": _LANGSMITH_API_KEY},\n",
    ")"
   ]
  },
  {
   "cell_type": "code",
   "execution_count": 9,
   "metadata": {},
   "outputs": [],
   "source": [
    "import platform\n",
    "\n",
    "run_id = str(uuid.uuid4())\n",
    "\n",
    "requests.post(\n",
    "    \"https://api.smith.langchain.com/runs\",\n",
    "    json={\n",
    "        \"id\": run_id,\n",
    "        \"name\": \"MySecondRun\",\n",
    "        \"run_type\": \"chain\",\n",
    "        \"inputs\": {\"text\": \"Foo\"},\n",
    "        \"start_time\": datetime.datetime.utcnow().isoformat(),\n",
    "        \"session_name\": project_name,\n",
    "        \"tags\": [\"langsmith\", \"rest\", \"my-example\"],\n",
    "        \"extra\": {\n",
    "            \"metadata\": {\"my_key\": \"My value\"},\n",
    "            \"runtime\": {\n",
    "                \"platform\": platform.platform(),\n",
    "            },\n",
    "        },\n",
    "    },\n",
    "    headers={\"x-api-key\": _LANGSMITH_API_KEY},\n",
    ")\n",
    "# ... do some work ...\n",
    "events = []\n",
    "# Events like new tokens and retries can be added\n",
    "events.append({\"event_name\": \"retry\", \"reason\": \"never gonna give you up\"})\n",
    "events.append({\"event_name\": \"new_token\", \"value\": \"foo\"})\n",
    "\n",
    "res = requests.patch(\n",
    "    f\"https://api.smith.langchain.com/runs/{run_id}\",\n",
    "    json={\n",
    "        \"end_time\": datetime.datetime.utcnow().isoformat(),\n",
    "        \"outputs\": {\"generated\": \"Bar\"},\n",
    "        \"events\": events,\n",
    "    },\n",
    "    headers={\"x-api-key\": _LANGSMITH_API_KEY},\n",
    ")"
   ]
  },
  {
   "cell_type": "code",
   "execution_count": 10,
   "metadata": {},
   "outputs": [
    {
     "data": {
      "text/plain": [
       "<Response [202]>"
      ]
     },
     "execution_count": 10,
     "metadata": {},
     "output_type": "execute_result"
    }
   ],
   "source": [
    "run_id = str(uuid.uuid4())\n",
    "requests.post(\n",
    "    \"https://api.smith.langchain.com/runs\",\n",
    "    json={\n",
    "        \"id\": run_id,\n",
    "        \"name\": \"MyChatModelRun\",\n",
    "        \"run_type\": \"llm\",\n",
    "        \"inputs\": {\n",
    "            \"messages\": [{\"role\": \"user\", \"content\": \"What's the weather in SF like?\"}],\n",
    "            # Optional\n",
    "            \"model\": \"text-davinci-003\",\n",
    "            \"functions\": [\n",
    "                {\n",
    "                    \"name\": \"get_current_weather\",\n",
    "                    \"description\": \"Get the current weather in a given location\",\n",
    "                    \"parameters\": {\n",
    "                        \"type\": \"object\",\n",
    "                        \"properties\": {\n",
    "                            \"location\": {\n",
    "                                \"type\": \"string\",\n",
    "                                \"description\": \"The city and state, e.g. San Francisco, CA\",\n",
    "                            },\n",
    "                            \"unit\": {\n",
    "                                \"type\": \"string\",\n",
    "                                \"enum\": [\"celsius\", \"fahrenheit\"],\n",
    "                            },\n",
    "                        },\n",
    "                        \"required\": [\"location\"],\n",
    "                    },\n",
    "                }\n",
    "            ],\n",
    "            # You can add other invocation paramers as k-v pairs\n",
    "            \"temperature\": 0.0,\n",
    "        },\n",
    "        \"start_time\": datetime.datetime.utcnow().isoformat(),\n",
    "        \"session_name\": project_name,\n",
    "    },\n",
    "    headers={\"x-api-key\": _LANGSMITH_API_KEY},\n",
    ")\n",
    "\n",
    "requests.patch(\n",
    "    f\"https://api.smith.langchain.com/runs/{run_id}\",\n",
    "    json={\n",
    "        \"end_time\": datetime.datetime.utcnow().isoformat(),\n",
    "        \"outputs\": {\n",
    "            \"choices\": [\n",
    "                {\n",
    "                    \"index\": 0,\n",
    "                    \"message\": {\n",
    "                        \"role\": \"assistant\",\n",
    "                        # Content is whatever string response the\n",
    "                        # model generates\n",
    "                        \"content\": \"Mostly cloudy.\",\n",
    "                        # Function call is the function invocation and arguments\n",
    "                        # as a string\n",
    "                        \"function_call\": {\n",
    "                            \"name\": \"get_current_weather\",\n",
    "                            \"arguments\": '{\\n\"location\": \"San Francisco, CA\"\\n}',\n",
    "                        },\n",
    "                    },\n",
    "                    \"finish_reason\": \"function_call\",\n",
    "                }\n",
    "            ],\n",
    "        },\n",
    "    },\n",
    "    headers={\"x-api-key\": _LANGSMITH_API_KEY},\n",
    ")"
   ]
  },
  {
   "cell_type": "code",
   "execution_count": 11,
   "metadata": {},
   "outputs": [
    {
     "data": {
      "text/plain": [
       "<Response [202]>"
      ]
     },
     "execution_count": 11,
     "metadata": {},
     "output_type": "execute_result"
    }
   ],
   "source": [
    "run_id = str(uuid.uuid4())\n",
    "requests.post(\n",
    "    \"https://api.smith.langchain.com/runs\",\n",
    "    json={\n",
    "        \"id\": run_id,\n",
    "        \"name\": \"MyLLMRun\",\n",
    "        \"run_type\": \"llm\",\n",
    "        \"inputs\": {\n",
    "            \"prompt\": \"Hi there!\",\n",
    "            # Optional: model or engine name, and other invocation params\n",
    "            \"engine\": \"text-davinci-003\",\n",
    "            \"temperature\": 0.0,\n",
    "        },\n",
    "        \"start_time\": datetime.datetime.utcnow().isoformat(),\n",
    "        \"session_name\": project_name,\n",
    "    },\n",
    "    headers={\"x-api-key\": _LANGSMITH_API_KEY},\n",
    ")\n",
    "\n",
    "requests.patch(\n",
    "    f\"https://api.smith.langchain.com/runs/{run_id}\",\n",
    "    json={\n",
    "        \"end_time\": datetime.datetime.utcnow().isoformat(),\n",
    "        \"outputs\": {\n",
    "            \"choices\": [\n",
    "                {\n",
    "                    \"text\": \"\\nMy name is Polly and I'm excited to talk to you!\",\n",
    "                    \"index\": 0,\n",
    "                    \"logprobs\": None,\n",
    "                    \"finish_reason\": \"stop\",\n",
    "                },\n",
    "            ]\n",
    "        },\n",
    "    },\n",
    "    headers={\"x-api-key\": _LANGSMITH_API_KEY},\n",
    ")"
   ]
  },
  {
   "cell_type": "markdown",
   "metadata": {},
   "source": [
    "Nesting Runs"
   ]
  },
  {
   "cell_type": "code",
   "execution_count": 12,
   "metadata": {},
   "outputs": [],
   "source": [
    "import uuid\n",
    "from typing import Optional\n",
    "\n",
    "\n",
    "class RunLogger:\n",
    "    def post_run(\n",
    "        self, data: dict, name: str, run_id: str, parent_run_id: Optional[str] = None\n",
    "    ) -> None:\n",
    "        requests.post(\n",
    "            \"https://api.smith.langchain.com/runs\",\n",
    "            json={\n",
    "                \"id\": run_id,\n",
    "                \"name\": name,\n",
    "                \"run_type\": \"chain\",\n",
    "                \"parent_run_id\": parent_run_id,\n",
    "                \"inputs\": data,\n",
    "                \"start_time\": datetime.datetime.utcnow().isoformat(),\n",
    "                \"session_name\": project_name,\n",
    "            },\n",
    "            headers={\"x-api-key\": _LANGSMITH_API_KEY},\n",
    "        )\n",
    "\n",
    "    def patch_run(\n",
    "        self, run_id: str, output: Optional[dict] = None, error: Optional[str] = None\n",
    "    ) -> None:\n",
    "        requests.patch(\n",
    "            f\"https://api.smith.langchain.com/runs/{run_id}\",\n",
    "            json={\n",
    "                \"error\": error,\n",
    "                \"outputs\": output,\n",
    "                \"end_time\": datetime.datetime.utcnow().isoformat(),\n",
    "            },\n",
    "            headers={\"x-api-key\": _LANGSMITH_API_KEY},\n",
    "        )"
   ]
  },
  {
   "cell_type": "code",
   "execution_count": 13,
   "metadata": {},
   "outputs": [],
   "source": [
    "logger = RunLogger()\n",
    "\n",
    "\n",
    "def fibonacci(n: int, depth: int = 0, parent_run_id: Optional[str] = None) -> int:\n",
    "    run_id = str(uuid.uuid4())\n",
    "    logger.post_run(\n",
    "        {\"n\": n}, f\"fibonacci_recursive\", run_id, parent_run_id=parent_run_id\n",
    "    )\n",
    "    try:\n",
    "        if n <= 1:\n",
    "            result = n\n",
    "        else:\n",
    "            result = fibonacci(n - 1, depth + 1, parent_run_id=run_id) + fibonacci(\n",
    "                n - 2, depth + 1, parent_run_id=run_id\n",
    "            )\n",
    "        logger.patch_run(run_id, output={\"result\": result})\n",
    "        return result\n",
    "    except Exception as e:\n",
    "        logger.patch_run(run_id, error=str(e))\n",
    "        raise"
   ]
  },
  {
   "cell_type": "code",
   "execution_count": 14,
   "metadata": {},
   "outputs": [
    {
     "data": {
      "text/plain": [
       "5"
      ]
     },
     "execution_count": 14,
     "metadata": {},
     "output_type": "execute_result"
    }
   ],
   "source": [
    "fibonacci(5)"
   ]
  },
  {
   "cell_type": "code",
   "execution_count": 15,
   "metadata": {},
   "outputs": [],
   "source": [
    "def fibonacci(n: int, depth: int = 0, parent_run_id: Optional[str] = None) -> int:\n",
    "    run_id = str(uuid.uuid4())\n",
    "    logger.post_run(\n",
    "        {\"n\": n}, f\"fibonacci_recursive\", run_id, parent_run_id=parent_run_id\n",
    "    )\n",
    "    try:\n",
    "        if n < 0:\n",
    "            raise ValueError(\"NEGATIVE NUMER NOT ALLOWED\")\n",
    "        if n <= 1:\n",
    "            result = n\n",
    "        else:\n",
    "            result = fibonacci(n - 1, depth + 1, parent_run_id=run_id) + fibonacci(\n",
    "                n - 2, depth + 1, parent_run_id=run_id\n",
    "            )\n",
    "        logger.patch_run(run_id, output={\"result\": result})\n",
    "        return result\n",
    "    except Exception as e:\n",
    "        logger.patch_run(run_id, error=str(e))\n",
    "        raise\n",
    "\n",
    "\n",
    "# We will show what the trace looks like with an error\n",
    "try:\n",
    "    fibonacci(2.3)\n",
    "except:\n",
    "    pass"
   ]
  },
  {
   "cell_type": "markdown",
   "metadata": {},
   "source": [
    "Single Requests"
   ]
  },
  {
   "cell_type": "code",
   "execution_count": 16,
   "metadata": {},
   "outputs": [
    {
     "data": {
      "text/plain": [
       "<Response [202]>"
      ]
     },
     "execution_count": 16,
     "metadata": {},
     "output_type": "execute_result"
    }
   ],
   "source": [
    "requests.post(\n",
    "    \"https://api.smith.langchain.com/runs\",\n",
    "    json={\n",
    "        \"name\": \"MyLLMRun\",\n",
    "        \"run_type\": \"llm\",\n",
    "        \"inputs\": {\n",
    "            \"prompt\": \"Hi there!\",\n",
    "            # Optional: model or engine name, and other invocation params\n",
    "            \"engine\": \"text-davinci-003\",\n",
    "            \"temperature\": 0.0,\n",
    "        },\n",
    "        \"outputs\": {\n",
    "            \"choices\": [\n",
    "                {\n",
    "                    \"text\": \"\\nMy name is Polly and I'm excited to talk to you!\",\n",
    "                    \"index\": 0,\n",
    "                    \"logprobs\": None,\n",
    "                    \"finish_reason\": \"stop\",\n",
    "                },\n",
    "            ]\n",
    "        },\n",
    "        \"session_name\": project_name,\n",
    "        \"start_time\": datetime.datetime.utcnow().isoformat(),\n",
    "        \"end_time\": datetime.datetime.utcnow().isoformat(),\n",
    "    },\n",
    "    headers={\"x-api-key\": _LANGSMITH_API_KEY},\n",
    ")"
   ]
  }
 ],
 "metadata": {
  "kernelspec": {
   "display_name": "Python 3",
   "language": "python",
   "name": "python3"
  },
  "language_info": {
   "codemirror_mode": {
    "name": "ipython",
    "version": 3
   },
   "file_extension": ".py",
   "mimetype": "text/x-python",
   "name": "python",
   "nbconvert_exporter": "python",
   "pygments_lexer": "ipython3",
   "version": "3.9.13"
  }
 },
 "nbformat": 4,
 "nbformat_minor": 2
}
