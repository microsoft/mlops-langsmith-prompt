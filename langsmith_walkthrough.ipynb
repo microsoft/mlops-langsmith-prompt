import os
from dotenv import load_dotenv
from langchain_openai import AzureOpenAI
from langchain.chat_models import ChatOpenAI
from langchain.prompts.chat import (
    HumanMessagePromptTemplate, 
    ChatPromptTemplate
)

load_dotenv()

os.environ["LANGCHAIN_TRACING_V2"]="true"
os.environ["LANGCHAIN_API_KEY"]=""
os.environ["LANGCHAIN_ENDPOINT"] = "https://api.smith.langchain.com"
os.environ["AZURE_OPENAI_API_KEY"] = ""
os.environ["AZURE_OPENAI_ENDPOINT"] = ""
os.environ["OPENAI_API_VERSION"] = "2023-12-01-preview"


project_name = "default"

def main():
    llm = ChatOpenAI(openai_api_key=os.environ["AZURE_OPENAI_API_KEY"], model_name = )